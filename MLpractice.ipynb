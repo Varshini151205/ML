{
  "nbformat": 4,
  "nbformat_minor": 0,
  "metadata": {
    "colab": {
      "provenance": [],
      "authorship_tag": "ABX9TyM9+eYojg00naNaz//RN1LL",
      "include_colab_link": true
    },
    "kernelspec": {
      "name": "python3",
      "display_name": "Python 3"
    },
    "language_info": {
      "name": "python"
    }
  },
  "cells": [
    {
      "cell_type": "markdown",
      "metadata": {
        "id": "view-in-github",
        "colab_type": "text"
      },
      "source": [
        "<a href=\"https://colab.research.google.com/github/Varshini151205/ML/blob/main/MLpractice.ipynb\" target=\"_parent\"><img src=\"https://colab.research.google.com/assets/colab-badge.svg\" alt=\"Open In Colab\"/></a>"
      ]
    },
    {
      "cell_type": "code",
      "execution_count": null,
      "metadata": {
        "colab": {
          "base_uri": "https://localhost:8080/"
        },
        "id": "9m0bjWkB2HuI",
        "outputId": "6cc3677e-a477-42a0-fca5-78e1ee54bcd3"
      },
      "outputs": [
        {
          "output_type": "stream",
          "name": "stdout",
          "text": [
            "[0 1 2 3 4 5 6 7 8 9]\n"
          ]
        }
      ],
      "source": [
        "import numpy as np\n",
        "n=np.arange(10)\n",
        "print(n)\n"
      ]
    },
    {
      "cell_type": "code",
      "source": [
        "n2=(n[n%2==0])\n",
        "print(n2)"
      ],
      "metadata": {
        "colab": {
          "base_uri": "https://localhost:8080/"
        },
        "id": "WLW5DI6O6x8e",
        "outputId": "2c762718-678e-413a-d088-dbd6cefe2c02"
      },
      "execution_count": null,
      "outputs": [
        {
          "output_type": "stream",
          "name": "stdout",
          "text": [
            "[0 2 4 6 8]\n"
          ]
        }
      ]
    },
    {
      "cell_type": "code",
      "source": [
        "n1=np.arange(10).reshape(2,5)\n",
        "print(n1)"
      ],
      "metadata": {
        "colab": {
          "base_uri": "https://localhost:8080/"
        },
        "id": "4XWNwuth6qw3",
        "outputId": "4f3741f1-066a-4482-b31c-d68ab3729373"
      },
      "execution_count": null,
      "outputs": [
        {
          "output_type": "stream",
          "name": "stdout",
          "text": [
            "[[0 1 2 3 4]\n",
            " [5 6 7 8 9]]\n"
          ]
        }
      ]
    },
    {
      "cell_type": "code",
      "source": [
        "print(np.trace(n1))"
      ],
      "metadata": {
        "colab": {
          "base_uri": "https://localhost:8080/"
        },
        "id": "NpAvbVZ361LO",
        "outputId": "8110a114-129a-4f20-b632-f487a246e5ca"
      },
      "execution_count": null,
      "outputs": [
        {
          "output_type": "stream",
          "name": "stdout",
          "text": [
            "6\n"
          ]
        }
      ]
    },
    {
      "cell_type": "code",
      "source": [
        "n1=np.arange(12).reshape(3,4)\n",
        "print(np.vstack(n))"
      ],
      "metadata": {
        "colab": {
          "base_uri": "https://localhost:8080/"
        },
        "id": "RH-l9lF-6-tO",
        "outputId": "d95d236b-238a-4e0e-f163-ab776ff30f1f"
      },
      "execution_count": null,
      "outputs": [
        {
          "output_type": "stream",
          "name": "stdout",
          "text": [
            "[[0]\n",
            " [1]\n",
            " [2]\n",
            " [3]\n",
            " [4]\n",
            " [5]\n",
            " [6]\n",
            " [7]\n",
            " [8]\n",
            " [9]]\n"
          ]
        }
      ]
    },
    {
      "cell_type": "code",
      "source": [
        "n=np.eye(3,3)\n",
        "print(n)"
      ],
      "metadata": {
        "colab": {
          "base_uri": "https://localhost:8080/"
        },
        "id": "qyVEUnYM743Q",
        "outputId": "c0c26e66-5a90-4128-fb4e-c55f28fb2a4e"
      },
      "execution_count": null,
      "outputs": [
        {
          "output_type": "stream",
          "name": "stdout",
          "text": [
            "[[1. 0. 0.]\n",
            " [0. 1. 0.]\n",
            " [0. 0. 1.]]\n"
          ]
        }
      ]
    },
    {
      "cell_type": "code",
      "source": [
        "n=np.arange(10)\n",
        "n1=np.arange(4,9)\n",
        "print(np.intersect1d(n,n1))\n"
      ],
      "metadata": {
        "colab": {
          "base_uri": "https://localhost:8080/"
        },
        "id": "mUO_-sCu8M2m",
        "outputId": "526e6cd8-9e20-46fc-aff2-46b3ae018896"
      },
      "execution_count": null,
      "outputs": [
        {
          "output_type": "stream",
          "name": "stdout",
          "text": [
            "[4 5 6 7 8]\n"
          ]
        }
      ]
    },
    {
      "cell_type": "code",
      "source": [
        "import pandas as pd\n",
        "import numpy as np\n",
        "import string\n",
        "EngAlph = pd.Series(list(string.ascii_lowercase))\n",
        "print( \" EngAlph: /n\", EngAlph)"
      ],
      "metadata": {
        "colab": {
          "base_uri": "https://localhost:8080/"
        },
        "id": "4qtWgVrFvk8d",
        "outputId": "c1291bfa-08a4-4c9d-d632-940fbeb49d51"
      },
      "execution_count": null,
      "outputs": [
        {
          "output_type": "stream",
          "name": "stdout",
          "text": [
            " EngAlph: /n 0     a\n",
            "1     b\n",
            "2     c\n",
            "3     d\n",
            "4     e\n",
            "5     f\n",
            "6     g\n",
            "7     h\n",
            "8     i\n",
            "9     j\n",
            "10    k\n",
            "11    l\n",
            "12    m\n",
            "13    n\n",
            "14    o\n",
            "15    p\n",
            "16    q\n",
            "17    r\n",
            "18    s\n",
            "19    t\n",
            "20    u\n",
            "21    v\n",
            "22    w\n",
            "23    x\n",
            "24    y\n",
            "25    z\n",
            "dtype: object\n"
          ]
        }
      ]
    },
    {
      "cell_type": "code",
      "source": [
        "Vowels = pd.Series([0, 0, 0, 0, 0], index=['a', 'e', 'i', 'o', 'u'])\n",
        "print(\"\\n Vowels:\\n\", Vowels)\n",
        "print(\"Is Vowels empty? \", Vowels.empty)"
      ],
      "metadata": {
        "colab": {
          "base_uri": "https://localhost:8080/"
        },
        "id": "o0tr4bSAwn5-",
        "outputId": "d7e394fe-625a-446e-dca7-82ba97dbe415"
      },
      "execution_count": null,
      "outputs": [
        {
          "output_type": "stream",
          "name": "stdout",
          "text": [
            "\n",
            " Vowels:\n",
            " a    0\n",
            "e    0\n",
            "i    0\n",
            "o    0\n",
            "u    0\n",
            "dtype: int64\n",
            "Is Vowels empty?  False\n"
          ]
        }
      ]
    },
    {
      "cell_type": "code",
      "source": [
        "friends_dict = {'varshini': 318, 'anushka': 320, 'rasagna': 151, 'rida': 161, 'harshitha': 146}\n",
        "Friends = pd.Series(friends_dict)\n",
        "print(\"\\n Friends:\\n\", Friends)"
      ],
      "metadata": {
        "colab": {
          "base_uri": "https://localhost:8080/"
        },
        "id": "N9YkpUetw2y_",
        "outputId": "168157f8-f674-46dc-f2ac-f5898fc81e36"
      },
      "execution_count": null,
      "outputs": [
        {
          "output_type": "stream",
          "name": "stdout",
          "text": [
            "\n",
            " Friends:\n",
            " varshini     318\n",
            "anushka      320\n",
            "rasagna      151\n",
            "rida         161\n",
            "harshitha    146\n",
            "dtype: int64\n"
          ]
        }
      ]
    },
    {
      "cell_type": "code",
      "source": [
        "MTseries = pd.Series(dtype='float64')\n",
        "print(\"\\n MTseries:\\n\", MTseries)\n",
        "print(\"Is MTseries empty? \", MTseries.empty)"
      ],
      "metadata": {
        "colab": {
          "base_uri": "https://localhost:8080/"
        },
        "id": "B9hkZ2YP0Mw7",
        "outputId": "c88de57f-f669-43e7-9666-fa52fd66061e"
      },
      "execution_count": null,
      "outputs": [
        {
          "output_type": "stream",
          "name": "stdout",
          "text": [
            "\n",
            " MTseries:\n",
            " Series([], dtype: float64)\n",
            "Is MTseries empty?  True\n"
          ]
        }
      ]
    },
    {
      "cell_type": "code",
      "source": [
        "days_array = np.array([31,28,31,30,31,30,31,31,30,31,30,31])\n",
        "MonthDays = pd.Series(days_array, index=range(1,13))\n",
        "print(\"\\nMonthDays:\\n\", MonthDays)"
      ],
      "metadata": {
        "colab": {
          "base_uri": "https://localhost:8080/"
        },
        "id": "EZCiqCYG0Q4i",
        "outputId": "aadbf81c-fca1-46df-f169-4cb5524c4cdd"
      },
      "execution_count": null,
      "outputs": [
        {
          "output_type": "stream",
          "name": "stdout",
          "text": [
            "\n",
            "MonthDays:\n",
            " 1     31\n",
            "2     28\n",
            "3     31\n",
            "4     30\n",
            "5     31\n",
            "6     30\n",
            "7     31\n",
            "8     31\n",
            "9     30\n",
            "10    31\n",
            "11    30\n",
            "12    31\n",
            "dtype: int64\n"
          ]
        }
      ]
    },
    {
      "cell_type": "code",
      "source": [
        "Vowels[:] = 10\n",
        "print(\"\\nVowels set to 10:\\n\", Vowels)"
      ],
      "metadata": {
        "colab": {
          "base_uri": "https://localhost:8080/"
        },
        "id": "WQ5vLQH00qXF",
        "outputId": "4e514a0f-ba52-4bfc-a5ea-974ee6ea138b"
      },
      "execution_count": null,
      "outputs": [
        {
          "output_type": "stream",
          "name": "stdout",
          "text": [
            "\n",
            "Vowels set to 10:\n",
            " a    10\n",
            "e    10\n",
            "i    10\n",
            "o    10\n",
            "u    10\n",
            "dtype: int64\n"
          ]
        }
      ]
    },
    {
      "cell_type": "code",
      "source": [
        "Vowels = Vowels / 2\n",
        "print(\"\\nVowels divided by 2:\\n\", Vowels)"
      ],
      "metadata": {
        "colab": {
          "base_uri": "https://localhost:8080/"
        },
        "id": "4FHYQkog0z1D",
        "outputId": "ec8a1bf4-19a9-419d-8439-402dd19c8f63"
      },
      "execution_count": null,
      "outputs": [
        {
          "output_type": "stream",
          "name": "stdout",
          "text": [
            "\n",
            "Vowels divided by 2:\n",
            " a    5.0\n",
            "e    5.0\n",
            "i    5.0\n",
            "o    5.0\n",
            "u    5.0\n",
            "dtype: float64\n"
          ]
        }
      ]
    },
    {
      "cell_type": "code",
      "source": [
        "Vowels1 = pd.Series([2, 5, 6, 3, 8], index=['a', 'e', 'i', 'o', 'u'])\n",
        "print(\"\\nVowels1:\\n\", Vowels1)"
      ],
      "metadata": {
        "colab": {
          "base_uri": "https://localhost:8080/"
        },
        "id": "VfuTOtoc06XF",
        "outputId": "8dea50c8-df6a-4141-c610-6f2a16fe616b"
      },
      "execution_count": null,
      "outputs": [
        {
          "output_type": "stream",
          "name": "stdout",
          "text": [
            "\n",
            "Vowels1:\n",
            " a    2\n",
            "e    5\n",
            "i    6\n",
            "o    3\n",
            "u    8\n",
            "dtype: int64\n"
          ]
        }
      ]
    },
    {
      "cell_type": "code",
      "source": [
        "Vowels3 = Vowels + Vowels1\n",
        "print(\"\\n Vowels3 (Vowels + Vowels1):\\n\", Vowels3)"
      ],
      "metadata": {
        "colab": {
          "base_uri": "https://localhost:8080/"
        },
        "id": "fG8Wv39A1ZK3",
        "outputId": "cd1eea5f-ff41-4f6a-f02d-25e61935b3d0"
      },
      "execution_count": null,
      "outputs": [
        {
          "output_type": "stream",
          "name": "stdout",
          "text": [
            "\n",
            " Vowels3 (Vowels + Vowels1):\n",
            " a     7.0\n",
            "e    10.0\n",
            "i    11.0\n",
            "o     8.0\n",
            "u    13.0\n",
            "dtype: float64\n"
          ]
        }
      ]
    },
    {
      "cell_type": "code",
      "source": [
        "print(\"\\n Vowels1 - Vowels:\\n\", Vowels1 - Vowels)\n",
        "print(\"  Vowels1 * Vowels:\\n\", Vowels1 * Vowels)\n",
        "print(\"  Vowels1 / Vowels:\\n\", Vowels1 / Vowels)"
      ],
      "metadata": {
        "colab": {
          "base_uri": "https://localhost:8080/"
        },
        "id": "NR28Jhma1lS3",
        "outputId": "7ad2ec78-1754-4c1a-fb83-4f3c4cdaa368"
      },
      "execution_count": null,
      "outputs": [
        {
          "output_type": "stream",
          "name": "stdout",
          "text": [
            "\n",
            " Vowels1 - Vowels:\n",
            " a   -3.0\n",
            "e    0.0\n",
            "i    1.0\n",
            "o   -2.0\n",
            "u    3.0\n",
            "dtype: float64\n",
            "  Vowels1 * Vowels:\n",
            " a    10.0\n",
            "e    25.0\n",
            "i    30.0\n",
            "o    15.0\n",
            "u    40.0\n",
            "dtype: float64\n",
            "  Vowels1 / Vowels:\n",
            " a    0.4\n",
            "e    1.0\n",
            "i    1.2\n",
            "o    0.6\n",
            "u    1.6\n",
            "dtype: float64\n"
          ]
        }
      ]
    },
    {
      "cell_type": "code",
      "source": [
        "Vowels1.index = ['A', 'E', 'I', 'O', 'U']\n",
        "print(\"\\nVowels1 with new labels:\\n\", Vowels1)"
      ],
      "metadata": {
        "colab": {
          "base_uri": "https://localhost:8080/"
        },
        "id": "0qH63XM91wrj",
        "outputId": "1f972867-53f9-4de8-a6e7-6f8e66e92db3"
      },
      "execution_count": null,
      "outputs": [
        {
          "output_type": "stream",
          "name": "stdout",
          "text": [
            "\n",
            "Vowels1 with new labels:\n",
            " A    2\n",
            "E    5\n",
            "I    6\n",
            "O    3\n",
            "U    8\n",
            "dtype: int64\n"
          ]
        }
      ]
    },
    {
      "cell_type": "code",
      "source": [
        "print(\"Properties:\")\n",
        "print(\"EngAlph - Dim:\", EngAlph.ndim, \", Size:\", EngAlph.size, \", Values:\", EngAlph.values)\n",
        "print(\"Vowels - Dim:\", Vowels.ndim, \", Size:\", Vowels.size, \", Values:\", Vowels.values)\n",
        "print(\"Friends - Dim:\", Friends.ndim, \", Size:\", Friends.size, \", Values:\", Friends.values)\n",
        "print(\"MTseries - Dim:\", MTseries.ndim, \", Size:\", MTseries.size, \", Values:\", MTseries.values)\n",
        "print(\"MonthDays - Dim:\", MonthDays.ndim, \", Size:\", MonthDays.size, \", Values:\", MonthDays.values)"
      ],
      "metadata": {
        "colab": {
          "base_uri": "https://localhost:8080/"
        },
        "id": "qaVg9Oor1_Bg",
        "outputId": "6201b992-8e0c-419d-cf43-96bc6e8fc1f0"
      },
      "execution_count": null,
      "outputs": [
        {
          "output_type": "stream",
          "name": "stdout",
          "text": [
            "Properties:\n",
            "EngAlph - Dim: 1 , Size: 26 , Values: ['a' 'b' 'c' 'd' 'e' 'f' 'g' 'h' 'i' 'j' 'k' 'l' 'm' 'n' 'o' 'p' 'q' 'r'\n",
            " 's' 't' 'u' 'v' 'w' 'x' 'y' 'z']\n",
            "Vowels - Dim: 1 , Size: 5 , Values: [5. 5. 5. 5. 5.]\n",
            "Friends - Dim: 1 , Size: 5 , Values: [318 320 151 161 146]\n",
            "MTseries - Dim: 1 , Size: 0 , Values: []\n",
            "MonthDays - Dim: 1 , Size: 12 , Values: [31 28 31 30 31 30 31 31 30 31 30 31]\n"
          ]
        }
      ]
    },
    {
      "cell_type": "code",
      "source": [
        "SeriesEmpty = MTseries.rename(\"SeriesEmpty\")\n",
        "print(\"\\nRenamed MTseries:\\n\", SeriesEmpty)"
      ],
      "metadata": {
        "colab": {
          "base_uri": "https://localhost:8080/"
        },
        "id": "bn_ahvPe2Sz2",
        "outputId": "e7508cde-3034-47ab-9d82-356c4c53ce9a"
      },
      "execution_count": null,
      "outputs": [
        {
          "output_type": "stream",
          "name": "stdout",
          "text": [
            "\n",
            "Renamed MTseries:\n",
            " Series([], Name: SeriesEmpty, dtype: float64)\n"
          ]
        }
      ]
    },
    {
      "cell_type": "code",
      "source": [
        "MonthDays.index.name = 'monthno'\n",
        "Friends.index.name = 'Fname'\n",
        "print(\"\\nMonthDays with index name:\\n\", MonthDays)\n",
        "print(\"Friends with index name:\\n\", Friends)"
      ],
      "metadata": {
        "colab": {
          "base_uri": "https://localhost:8080/"
        },
        "id": "kPEhJjF885Gy",
        "outputId": "0231b992-7195-4f45-fdd1-2d282a2a6778"
      },
      "execution_count": null,
      "outputs": [
        {
          "output_type": "stream",
          "name": "stdout",
          "text": [
            "\n",
            "MonthDays with index name:\n",
            " monthno\n",
            "1     31\n",
            "2     28\n",
            "3     31\n",
            "4     30\n",
            "5     31\n",
            "6     30\n",
            "7     31\n",
            "8     31\n",
            "9     30\n",
            "10    31\n",
            "11    30\n",
            "12    31\n",
            "dtype: int64\n",
            "Friends with index name:\n",
            " Fname\n",
            "varshini     318\n",
            "anushka      320\n",
            "rasagna      151\n",
            "rida         161\n",
            "harshitha    146\n",
            "dtype: int64\n"
          ]
        }
      ]
    },
    {
      "cell_type": "code",
      "source": [
        "print(\"3rd and 2nd value from Friends:\\n\", Friends.iloc[[2, 1]])\n"
      ],
      "metadata": {
        "colab": {
          "base_uri": "https://localhost:8080/"
        },
        "id": "bSkpzwZE9JDa",
        "outputId": "2775c4cc-6dd3-48c5-cf5c-b6b3771f4c7f"
      },
      "execution_count": null,
      "outputs": [
        {
          "output_type": "stream",
          "name": "stdout",
          "text": [
            "3rd and 2nd value from Friends:\n",
            " Fname\n",
            "rasagna    151\n",
            "anushka    320\n",
            "dtype: int64\n"
          ]
        }
      ]
    },
    {
      "cell_type": "code",
      "source": [
        "print(\"Alphabets from 'e' to 'p':\\n\", EngAlph[4:16])\n"
      ],
      "metadata": {
        "colab": {
          "base_uri": "https://localhost:8080/"
        },
        "id": "65kaVQEQ9QT8",
        "outputId": "1844cd19-cfc6-4222-84f9-8a4554201a19"
      },
      "execution_count": null,
      "outputs": [
        {
          "output_type": "stream",
          "name": "stdout",
          "text": [
            "Alphabets from 'e' to 'p':\n",
            " 4     e\n",
            "5     f\n",
            "6     g\n",
            "7     h\n",
            "8     i\n",
            "9     j\n",
            "10    k\n",
            "11    l\n",
            "12    m\n",
            "13    n\n",
            "14    o\n",
            "15    p\n",
            "dtype: object\n"
          ]
        }
      ]
    },
    {
      "cell_type": "code",
      "source": [
        "print(\"Last 10 values:\\n\", EngAlph.tail(10))\n"
      ],
      "metadata": {
        "colab": {
          "base_uri": "https://localhost:8080/"
        },
        "id": "mEFip_Aq9Zmv",
        "outputId": "6865209a-10aa-409c-db58-4bf2b34241fa"
      },
      "execution_count": null,
      "outputs": [
        {
          "output_type": "stream",
          "name": "stdout",
          "text": [
            "Last 10 values:\n",
            " 16    q\n",
            "17    r\n",
            "18    s\n",
            "19    t\n",
            "20    u\n",
            "21    v\n",
            "22    w\n",
            "23    x\n",
            "24    y\n",
            "25    z\n",
            "dtype: object\n"
          ]
        }
      ]
    },
    {
      "cell_type": "code",
      "source": [
        "print(\"MTseries:\\n\", MTseries)\n"
      ],
      "metadata": {
        "colab": {
          "base_uri": "https://localhost:8080/"
        },
        "id": "ttonpHx_9gaW",
        "outputId": "5c6b4bc6-9df2-4f18-a855-b2dfed9ce3f4"
      },
      "execution_count": null,
      "outputs": [
        {
          "output_type": "stream",
          "name": "stdout",
          "text": [
            "MTseries:\n",
            " Series([], dtype: float64)\n"
          ]
        }
      ]
    },
    {
      "cell_type": "code",
      "source": [
        "print(\" Months 3 to 7:\\n\", MonthDays.loc[3:7])\n"
      ],
      "metadata": {
        "colab": {
          "base_uri": "https://localhost:8080/"
        },
        "id": "_i58RB4n9sic",
        "outputId": "000fb4be-c482-41f7-9711-d71148716046"
      },
      "execution_count": null,
      "outputs": [
        {
          "output_type": "stream",
          "name": "stdout",
          "text": [
            " Months 3 to 7:\n",
            " monthno\n",
            "3    31\n",
            "4    30\n",
            "5    31\n",
            "6    30\n",
            "7    31\n",
            "dtype: int64\n"
          ]
        }
      ]
    },
    {
      "cell_type": "code",
      "source": [
        "print(\"MonthDays in reverse:\\n\", MonthDays[::-1])\n"
      ],
      "metadata": {
        "colab": {
          "base_uri": "https://localhost:8080/"
        },
        "id": "oOe2yTlG976P",
        "outputId": "46ce5f33-573b-4bb9-b127-0a8afc024866"
      },
      "execution_count": null,
      "outputs": [
        {
          "output_type": "stream",
          "name": "stdout",
          "text": [
            "MonthDays in reverse:\n",
            " monthno\n",
            "12    31\n",
            "11    30\n",
            "10    31\n",
            "9     30\n",
            "8     31\n",
            "7     31\n",
            "6     30\n",
            "5     31\n",
            "4     30\n",
            "3     31\n",
            "2     28\n",
            "1     31\n",
            "dtype: int64\n"
          ]
        }
      ]
    },
    {
      "cell_type": "code",
      "source": [
        "import pandas as pd\n",
        "\n",
        "data = {\n",
        "    '2014': [100.5, 150.8, 200.9, 30000, 40000],\n",
        "    '2015': [12000, 18000, 22000, 30000, 45000],\n",
        "    '2016': [20000, 50000, 70000, 100000, 125000],\n",
        "    '2017': [50000, 60000, 70000, 80000, 90000]\n",
        "}\n",
        "\n",
        "index_labels = ['Madhu', 'Kusum', 'Kinshuk', 'Ankit', 'Shruti']\n",
        "\n",
        "Sales = pd.DataFrame(data, index=index_labels)\n",
        "print(\"Sales DataFrame:\\n\", Sales)\n"
      ],
      "metadata": {
        "colab": {
          "base_uri": "https://localhost:8080/"
        },
        "id": "0bBEaI2O-FQJ",
        "outputId": "0df8811c-ca4e-4252-9bbe-8c799555049d"
      },
      "execution_count": null,
      "outputs": [
        {
          "output_type": "stream",
          "name": "stdout",
          "text": [
            "Sales DataFrame:\n",
            "             2014   2015    2016   2017\n",
            "Madhu      100.5  12000   20000  50000\n",
            "Kusum      150.8  18000   50000  60000\n",
            "Kinshuk    200.9  22000   70000  70000\n",
            "Ankit    30000.0  30000  100000  80000\n",
            "Shruti   40000.0  45000  125000  90000\n"
          ]
        }
      ]
    },
    {
      "cell_type": "code",
      "source": [
        "print(\"Row labels:\\n\", Sales.index)\n"
      ],
      "metadata": {
        "colab": {
          "base_uri": "https://localhost:8080/"
        },
        "id": "HMDRCoRW-Prm",
        "outputId": "493230a7-5527-4619-fabb-d710c7016714"
      },
      "execution_count": null,
      "outputs": [
        {
          "output_type": "stream",
          "name": "stdout",
          "text": [
            "Row labels:\n",
            " Index(['Madhu', 'Kusum', 'Kinshuk', 'Ankit', 'Shruti'], dtype='object')\n"
          ]
        }
      ]
    },
    {
      "cell_type": "code",
      "source": [
        "print(\"Column labels:\\n\", Sales.columns)\n"
      ],
      "metadata": {
        "colab": {
          "base_uri": "https://localhost:8080/"
        },
        "id": "NfvZgunk-UES",
        "outputId": "2687b0a1-c5f1-4aa9-a880-efe4ccf98eed"
      },
      "execution_count": null,
      "outputs": [
        {
          "output_type": "stream",
          "name": "stdout",
          "text": [
            "Column labels:\n",
            " Index(['2014', '2015', '2016', '2017'], dtype='object')\n"
          ]
        }
      ]
    },
    {
      "cell_type": "code",
      "source": [
        "print(\"Data types:\\n\", Sales.dtypes)\n"
      ],
      "metadata": {
        "colab": {
          "base_uri": "https://localhost:8080/"
        },
        "id": "sRMIZMEp-aQr",
        "outputId": "2a2e7a0b-ea19-48a7-b774-41da9f21efa1"
      },
      "execution_count": null,
      "outputs": [
        {
          "output_type": "stream",
          "name": "stdout",
          "text": [
            "Data types:\n",
            " 2014    float64\n",
            "2015      int64\n",
            "2016      int64\n",
            "2017      int64\n",
            "dtype: object\n"
          ]
        }
      ]
    },
    {
      "cell_type": "code",
      "source": [
        "print(\"Dimensions:\", Sales.ndim)\n",
        "print(\"Shape:\", Sales.shape)\n",
        "print(\"Size:\", Sales.size)\n",
        "print(\"Values:\\n\", Sales.values)\n"
      ],
      "metadata": {
        "colab": {
          "base_uri": "https://localhost:8080/"
        },
        "id": "sZ0Ngjje-en1",
        "outputId": "73659d42-c747-4f40-bca8-f189a01cf987"
      },
      "execution_count": null,
      "outputs": [
        {
          "output_type": "stream",
          "name": "stdout",
          "text": [
            "Dimensions: 2\n",
            "Shape: (5, 4)\n",
            "Size: 20\n",
            "Values:\n",
            " [[1.005e+02 1.200e+04 2.000e+04 5.000e+04]\n",
            " [1.508e+02 1.800e+04 5.000e+04 6.000e+04]\n",
            " [2.009e+02 2.200e+04 7.000e+04 7.000e+04]\n",
            " [3.000e+04 3.000e+04 1.000e+05 8.000e+04]\n",
            " [4.000e+04 4.500e+04 1.250e+05 9.000e+04]]\n"
          ]
        }
      ]
    },
    {
      "cell_type": "code",
      "source": [
        "print(\"Last 2 rows:\\n\", Sales.tail(2))\n"
      ],
      "metadata": {
        "colab": {
          "base_uri": "https://localhost:8080/"
        },
        "id": "rDXKKq06-j4A",
        "outputId": "4ea79cd3-2e99-4a24-c02b-4411ed7e3b5f"
      },
      "execution_count": null,
      "outputs": [
        {
          "output_type": "stream",
          "name": "stdout",
          "text": [
            "Last 2 rows:\n",
            "            2014   2015    2016   2017\n",
            "Ankit   30000.0  30000  100000  80000\n",
            "Shruti  40000.0  45000  125000  90000\n"
          ]
        }
      ]
    },
    {
      "cell_type": "code",
      "source": [
        "print(\"First 2 columns:\\n\", Sales.iloc[:, 0:2])\n"
      ],
      "metadata": {
        "colab": {
          "base_uri": "https://localhost:8080/"
        },
        "id": "oXjst_mP-ohq",
        "outputId": "c5aed57a-3b8d-422c-8b8b-5d8637b52b62"
      },
      "execution_count": null,
      "outputs": [
        {
          "output_type": "stream",
          "name": "stdout",
          "text": [
            "First 2 columns:\n",
            "             2014   2015\n",
            "Madhu      100.5  12000\n",
            "Kusum      150.8  18000\n",
            "Kinshuk    200.9  22000\n",
            "Ankit    30000.0  30000\n",
            "Shruti   40000.0  45000\n"
          ]
        }
      ]
    },
    {
      "cell_type": "code",
      "source": [
        "sales2_data = {\n",
        "    '2018': {\n",
        "        'Madhu': 160000,\n",
        "        'Kusum': 110000,\n",
        "        'Kinshuk': 500000,\n",
        "        'Ankit': 340000,\n",
        "        'Shruti': 900000\n",
        "    }\n",
        "}\n",
        "\n",
        "Sales2 = pd.DataFrame(sales2_data)\n",
        "print(\"Sales2 DataFrame:\\n\", Sales2)\n"
      ],
      "metadata": {
        "colab": {
          "base_uri": "https://localhost:8080/"
        },
        "id": "v0qeDpF7-tMo",
        "outputId": "21cb38f8-0439-454c-ec70-2ef7e62a2d5c"
      },
      "execution_count": null,
      "outputs": [
        {
          "output_type": "stream",
          "name": "stdout",
          "text": [
            "Sales2 DataFrame:\n",
            "            2018\n",
            "Madhu    160000\n",
            "Kusum    110000\n",
            "Kinshuk  500000\n",
            "Ankit    340000\n",
            "Shruti   900000\n"
          ]
        }
      ]
    },
    {
      "cell_type": "code",
      "source": [
        "print(\"Is Sales2 empty?:\", Sales2.empty)\n"
      ],
      "metadata": {
        "colab": {
          "base_uri": "https://localhost:8080/"
        },
        "id": "y1egU9H4-yXi",
        "outputId": "32c550bb-f3f6-4d9f-d6ad-2bce03780fff"
      },
      "execution_count": null,
      "outputs": [
        {
          "output_type": "stream",
          "name": "stdout",
          "text": [
            "Is Sales2 empty?: False\n"
          ]
        }
      ]
    },
    {
      "cell_type": "code",
      "source": [
        "Sales = pd.concat([Sales, Sales2], axis=1)\n",
        "print(\"Appended Sales2 to Sales:\\n\", Sales)\n"
      ],
      "metadata": {
        "colab": {
          "base_uri": "https://localhost:8080/"
        },
        "id": "k4GWXCY2-7kd",
        "outputId": "7872f950-e948-458c-c886-99fc8c3c5eda"
      },
      "execution_count": null,
      "outputs": [
        {
          "output_type": "stream",
          "name": "stdout",
          "text": [
            "Appended Sales2 to Sales:\n",
            "             2014   2015    2016   2017    2018\n",
            "Madhu      100.5  12000   20000  50000  160000\n",
            "Kusum      150.8  18000   50000  60000  110000\n",
            "Kinshuk    200.9  22000   70000  70000  500000\n",
            "Ankit    30000.0  30000  100000  80000  340000\n",
            "Shruti   40000.0  45000  125000  90000  900000\n"
          ]
        }
      ]
    },
    {
      "cell_type": "code",
      "source": [
        "Sales = Sales.T\n",
        "print(\"Transposed Sales:\\n\", Sales)\n"
      ],
      "metadata": {
        "colab": {
          "base_uri": "https://localhost:8080/"
        },
        "id": "mgDUls4n--G4",
        "outputId": "58ca6e85-75da-4cb0-b79a-1d4c3904ccca"
      },
      "execution_count": null,
      "outputs": [
        {
          "output_type": "stream",
          "name": "stdout",
          "text": [
            "Transposed Sales:\n",
            "          Madhu     Kusum   Kinshuk     Ankit    Shruti\n",
            "2014     100.5     150.8     200.9   30000.0   40000.0\n",
            "2015   12000.0   18000.0   22000.0   30000.0   45000.0\n",
            "2016   20000.0   50000.0   70000.0  100000.0  125000.0\n",
            "2017   50000.0   60000.0   70000.0   80000.0   90000.0\n",
            "2018  160000.0  110000.0  500000.0  340000.0  900000.0\n"
          ]
        }
      ]
    },
    {
      "cell_type": "code",
      "source": [
        "print(\"Sales in 2017:\\n\", Sales.loc['2017'])\n"
      ],
      "metadata": {
        "colab": {
          "base_uri": "https://localhost:8080/"
        },
        "id": "UGBYG5CA_ECm",
        "outputId": "12374456-d442-49c8-b130-6699a3d8b772"
      },
      "execution_count": null,
      "outputs": [
        {
          "output_type": "stream",
          "name": "stdout",
          "text": [
            "Sales in 2017:\n",
            " Madhu      50000.0\n",
            "Kusum      60000.0\n",
            "Kinshuk    70000.0\n",
            "Ankit      80000.0\n",
            "Shruti     90000.0\n",
            "Name: 2017, dtype: float64\n"
          ]
        }
      ]
    },
    {
      "cell_type": "code",
      "source": [
        "print(\"Madhu and Ankit in 2017 & 2018:\\n\", Sales.loc[['2017', '2018'], ['Madhu', 'Ankit']])\n"
      ],
      "metadata": {
        "colab": {
          "base_uri": "https://localhost:8080/"
        },
        "id": "9MgOKZ7J_JRv",
        "outputId": "640dd6e7-49cd-4173-a37f-e998e389c535"
      },
      "execution_count": null,
      "outputs": [
        {
          "output_type": "stream",
          "name": "stdout",
          "text": [
            "Madhu and Ankit in 2017 & 2018:\n",
            "          Madhu     Ankit\n",
            "2017   50000.0   80000.0\n",
            "2018  160000.0  340000.0\n"
          ]
        }
      ]
    },
    {
      "cell_type": "code",
      "source": [
        "print(\"Shruti in 2016:\\n\", Sales.loc['2016', 'Shruti'])\n"
      ],
      "metadata": {
        "colab": {
          "base_uri": "https://localhost:8080/"
        },
        "id": "aIE2C8x7_OP1",
        "outputId": "3e8abce7-14a7-45f4-b1cf-6a762a6148d9"
      },
      "execution_count": null,
      "outputs": [
        {
          "output_type": "stream",
          "name": "stdout",
          "text": [
            "Shruti in 2016:\n",
            " 125000.0\n"
          ]
        }
      ]
    },
    {
      "cell_type": "code",
      "source": [
        "Sales['Sumeet'] = [196.2, 37800, 52000, 78438, 38852]\n",
        "print(\"Added Sumeet:\\n\", Sales)\n"
      ],
      "metadata": {
        "colab": {
          "base_uri": "https://localhost:8080/"
        },
        "id": "88pE00jH_Q3h",
        "outputId": "23efa879-3ac7-44e5-a6c9-c416ec2de88d"
      },
      "execution_count": null,
      "outputs": [
        {
          "output_type": "stream",
          "name": "stdout",
          "text": [
            "Added Sumeet:\n",
            "          Madhu     Kusum   Kinshuk     Ankit    Shruti   Sumeet\n",
            "2014     100.5     150.8     200.9   30000.0   40000.0    196.2\n",
            "2015   12000.0   18000.0   22000.0   30000.0   45000.0  37800.0\n",
            "2016   20000.0   50000.0   70000.0  100000.0  125000.0  52000.0\n",
            "2017   50000.0   60000.0   70000.0   80000.0   90000.0  78438.0\n",
            "2018  160000.0  110000.0  500000.0  340000.0  900000.0  38852.0\n"
          ]
        }
      ]
    },
    {
      "cell_type": "code",
      "source": [
        "Sales = Sales.drop(index='2014')\n",
        "print(\" Deleted 2014:\\n\", Sales)\n"
      ],
      "metadata": {
        "colab": {
          "base_uri": "https://localhost:8080/"
        },
        "id": "NSX925hL_WYB",
        "outputId": "dfb34118-75e3-41fe-d90e-a3e5b683f5bc"
      },
      "execution_count": null,
      "outputs": [
        {
          "output_type": "stream",
          "name": "stdout",
          "text": [
            " Deleted 2014:\n",
            "          Madhu     Kusum   Kinshuk     Ankit    Shruti   Sumeet\n",
            "2015   12000.0   18000.0   22000.0   30000.0   45000.0  37800.0\n",
            "2016   20000.0   50000.0   70000.0  100000.0  125000.0  52000.0\n",
            "2017   50000.0   60000.0   70000.0   80000.0   90000.0  78438.0\n",
            "2018  160000.0  110000.0  500000.0  340000.0  900000.0  38852.0\n"
          ]
        }
      ]
    },
    {
      "cell_type": "code",
      "source": [
        "Sales = Sales.drop(columns='Kinshuk')\n",
        "print(\"Deleted Kinshuk:\\n\", Sales)\n"
      ],
      "metadata": {
        "colab": {
          "base_uri": "https://localhost:8080/"
        },
        "id": "XQ4EHNX-_cKB",
        "outputId": "e98d3400-2063-42b2-e658-542f1a254329"
      },
      "execution_count": null,
      "outputs": [
        {
          "output_type": "stream",
          "name": "stdout",
          "text": [
            "Deleted Kinshuk:\n",
            "          Madhu     Kusum     Ankit    Shruti   Sumeet\n",
            "2015   12000.0   18000.0   30000.0   45000.0  37800.0\n",
            "2016   20000.0   50000.0  100000.0  125000.0  52000.0\n",
            "2017   50000.0   60000.0   80000.0   90000.0  78438.0\n",
            "2018  160000.0  110000.0  340000.0  900000.0  38852.0\n"
          ]
        }
      ]
    },
    {
      "cell_type": "code",
      "source": [
        "Sales = Sales.rename(columns={'Ankit': 'Vivaan', 'Madhu': 'Shailesh'})\n",
        "print(\"Renamed Ankit & Madhu:\\n\", Sales)\n"
      ],
      "metadata": {
        "colab": {
          "base_uri": "https://localhost:8080/"
        },
        "id": "Dn5sxDz7_hA_",
        "outputId": "2687198a-4aa3-4098-8699-e726fe53a83a"
      },
      "execution_count": null,
      "outputs": [
        {
          "output_type": "stream",
          "name": "stdout",
          "text": [
            "Renamed Ankit & Madhu:\n",
            "       Shailesh     Kusum    Vivaan    Shruti   Sumeet\n",
            "2015   12000.0   18000.0   30000.0   45000.0  37800.0\n",
            "2016   20000.0   50000.0  100000.0  125000.0  52000.0\n",
            "2017   50000.0   60000.0   80000.0   90000.0  78438.0\n",
            "2018  160000.0  110000.0  340000.0  900000.0  38852.0\n"
          ]
        }
      ]
    },
    {
      "cell_type": "code",
      "source": [
        "Sales.at['2018', 'Shailesh'] = 100000\n",
        "print(\" Updated Shailesh 2018 sale:\\n\", Sales)\n"
      ],
      "metadata": {
        "colab": {
          "base_uri": "https://localhost:8080/"
        },
        "id": "D92p3rGZ_lrd",
        "outputId": "07d3ef18-49bd-4c8f-bb2b-944e23f9b69f"
      },
      "execution_count": null,
      "outputs": [
        {
          "output_type": "stream",
          "name": "stdout",
          "text": [
            " Updated Shailesh 2018 sale:\n",
            "       Shailesh     Kusum    Vivaan    Shruti   Sumeet\n",
            "2015   12000.0   18000.0   30000.0   45000.0  37800.0\n",
            "2016   20000.0   50000.0  100000.0  125000.0  52000.0\n",
            "2017   50000.0   60000.0   80000.0   90000.0  78438.0\n",
            "2018  100000.0  110000.0  340000.0  900000.0  38852.0\n"
          ]
        }
      ]
    },
    {
      "cell_type": "code",
      "source": [
        "Sales.to_csv('SalesFigures.csv', index=False, header=False)\n",
        "print(\"Written to SalesFigures.csv without labels\")\n"
      ],
      "metadata": {
        "colab": {
          "base_uri": "https://localhost:8080/"
        },
        "id": "2hdBAbbP_r0G",
        "outputId": "0395505c-4b18-40a0-a246-6d04f91f55d2"
      },
      "execution_count": null,
      "outputs": [
        {
          "output_type": "stream",
          "name": "stdout",
          "text": [
            "Written to SalesFigures.csv without labels\n"
          ]
        }
      ]
    },
    {
      "cell_type": "code",
      "source": [
        "SalesRetrieved = pd.read_csv('SalesFigures.csv', header=None)\n",
        "SalesRetrieved.index = Sales.index\n",
        "SalesRetrieved.columns = Sales.columns\n",
        "print(\"SalesRetrieved with labels:\\n\", SalesRetrieved)\n"
      ],
      "metadata": {
        "id": "K-0jHP51_z06",
        "outputId": "4a7cb859-f238-4c2d-dcdf-d357d563e8cb",
        "colab": {
          "base_uri": "https://localhost:8080/"
        }
      },
      "execution_count": null,
      "outputs": [
        {
          "output_type": "stream",
          "name": "stdout",
          "text": [
            "SalesRetrieved with labels:\n",
            "       Shailesh     Kusum    Vivaan    Shruti   Sumeet\n",
            "2015   12000.0   18000.0   30000.0   45000.0  37800.0\n",
            "2016   20000.0   50000.0  100000.0  125000.0  52000.0\n",
            "2017   50000.0   60000.0   80000.0   90000.0  78438.0\n",
            "2018  100000.0  110000.0  340000.0  900000.0  38852.0\n"
          ]
        }
      ]
    }
  ]
}